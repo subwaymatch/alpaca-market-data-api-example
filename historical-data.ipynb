{
 "cells": [
  {
   "cell_type": "code",
   "execution_count": 74,
   "id": "e9eadcbf",
   "metadata": {},
   "outputs": [],
   "source": [
    "from dotenv import load_dotenv\n",
    "import os"
   ]
  },
  {
   "cell_type": "code",
   "execution_count": 75,
   "id": "1084c03b",
   "metadata": {},
   "outputs": [],
   "source": [
    "# Load variables from .env into environment\n",
    "load_dotenv()\n",
    "\n",
    "# Access them with os.environ\n",
    "api_key = os.getenv(\"ALPACA_API_KEY\")\n",
    "secret_key = os.getenv(\"ALPACA_SECRET_KEY\")\n",
    "debug_mode = os.getenv(\"DEBUG\") == \"True\"\n",
    "\n",
    "paper = True\n",
    "data_api_url = None"
   ]
  },
  {
   "cell_type": "markdown",
   "id": "a26183d6",
   "metadata": {},
   "source": []
  },
  {
   "cell_type": "code",
   "execution_count": 76,
   "id": "8fef6e38",
   "metadata": {},
   "outputs": [],
   "source": [
    "from datetime import datetime, timedelta\n",
    "from zoneinfo import ZoneInfo\n",
    "\n",
    "from alpaca.data.timeframe import TimeFrame, TimeFrameUnit\n",
    "from alpaca.data.historical.stock import StockHistoricalDataClient\n",
    "from alpaca.data.requests import StockBarsRequest\n",
    "\n",
    "import plotly.graph_objects as go\n",
    "import plotly.express as px\n",
    "import pandas as pd\n",
    "import numpy as np"
   ]
  },
  {
   "cell_type": "code",
   "execution_count": 77,
   "id": "c98eb75a",
   "metadata": {},
   "outputs": [
    {
     "name": "stdout",
     "output_type": "stream",
     "text": [
      "Number of rows after dropping NaNs: 980\n"
     ]
    }
   ],
   "source": [
    "stock_historical_data_client = StockHistoricalDataClient(\n",
    "    api_key, secret_key, url_override=data_api_url\n",
    ")\n",
    "\n",
    "symbol = \"GOOGL\"\n",
    "\n",
    "# get historical bars by symbol\n",
    "# ref. https://docs.alpaca.markets/reference/stockbars-1\n",
    "now = datetime.now(ZoneInfo(\"America/Chicago\"))\n",
    "req = StockBarsRequest(\n",
    "    symbol_or_symbols=[symbol],\n",
    "    timeframe=TimeFrame(amount=1, unit=TimeFrameUnit.Day),  # specify timeframe\n",
    "    start=now\n",
    "    - timedelta(\n",
    "        weeks=52 * 4\n",
    "    ),  # specify start datetime, default=the beginning of the current day.\n",
    "    # end_date=None,                                        # specify end datetime, default=now\n",
    "    # limit=1000,  # specify limit\n",
    ")\n",
    "\n",
    "df_bars = stock_historical_data_client.get_stock_bars(req).df\n",
    "\n",
    "# Calculate 5-period and 20-period Simple Moving Average (SMA)\n",
    "df_bars[\"SMA_5\"] = df_bars[\"close\"].rolling(window=5).mean()\n",
    "df_bars[\"SMA_20\"] = df_bars[\"close\"].rolling(window=20).mean()\n",
    "\n",
    "# Exclude days where SMA values are NaN\n",
    "df_bars = df_bars.dropna(subset=[\"SMA_5\", \"SMA_20\"])\n",
    "\n",
    "# Sort bars by symbol and timestamp\n",
    "df_bars = df_bars.sort_index(level=[\"symbol\", \"timestamp\"])\n",
    "\n",
    "print(f\"Number of rows after dropping NaNs: {len(df_bars)}\")"
   ]
  },
  {
   "cell_type": "markdown",
   "id": "660a4b0c",
   "metadata": {},
   "source": [
    "## Check Conditions for Trading Signals\n"
   ]
  },
  {
   "cell_type": "markdown",
   "id": "29e38e6c",
   "metadata": {},
   "source": [
    "### Closing > Opening\n"
   ]
  },
  {
   "cell_type": "code",
   "execution_count": 78,
   "id": "616d100d",
   "metadata": {},
   "outputs": [
    {
     "data": {
      "text/plain": [
       "symbol  timestamp                \n",
       "GOOGL   2021-10-14 04:00:00+00:00     True\n",
       "        2021-10-15 04:00:00+00:00    False\n",
       "        2021-10-18 04:00:00+00:00     True\n",
       "dtype: bool"
      ]
     },
     "execution_count": 78,
     "metadata": {},
     "output_type": "execute_result"
    }
   ],
   "source": [
    "is_up = df_bars[\"close\"] > df_bars[\"open\"]\n",
    "is_up.head(3)"
   ]
  },
  {
   "cell_type": "markdown",
   "id": "f5447a95",
   "metadata": {},
   "source": [
    "Check previous day's closing price is greater than opening price.\n"
   ]
  },
  {
   "cell_type": "code",
   "execution_count": 79,
   "id": "8f038d88",
   "metadata": {},
   "outputs": [
    {
     "data": {
      "text/plain": [
       "symbol  timestamp                \n",
       "GOOGL   2021-10-14 04:00:00+00:00      NaN\n",
       "        2021-10-15 04:00:00+00:00     True\n",
       "        2021-10-18 04:00:00+00:00    False\n",
       "dtype: object"
      ]
     },
     "execution_count": 79,
     "metadata": {},
     "output_type": "execute_result"
    }
   ],
   "source": [
    "prev_up = is_up.groupby(level=\"symbol\").shift(1)\n",
    "prev_up.head(3)"
   ]
  },
  {
   "cell_type": "markdown",
   "id": "a85c2492",
   "metadata": {},
   "source": [
    "### Open below SMA_5 AND close above SMA_5\n"
   ]
  },
  {
   "cell_type": "code",
   "execution_count": 80,
   "id": "bcb3219c",
   "metadata": {},
   "outputs": [
    {
     "data": {
      "text/plain": [
       "symbol  timestamp                \n",
       "GOOGL   2021-10-14 04:00:00+00:00    False\n",
       "        2021-10-15 04:00:00+00:00    False\n",
       "        2021-10-18 04:00:00+00:00    False\n",
       "dtype: bool"
      ]
     },
     "execution_count": 80,
     "metadata": {},
     "output_type": "execute_result"
    }
   ],
   "source": [
    "cross_above_sma5 = (df_bars[\"open\"] < df_bars[\"SMA_5\"]) & (\n",
    "    df_bars[\"close\"] > df_bars[\"SMA_5\"]\n",
    ")\n",
    "cross_above_sma5.head(3)"
   ]
  },
  {
   "cell_type": "markdown",
   "id": "438aaeb2",
   "metadata": {},
   "source": [
    "### Previous day's close below SMA_5\n"
   ]
  },
  {
   "cell_type": "code",
   "execution_count": 81,
   "id": "d4416e62",
   "metadata": {},
   "outputs": [
    {
     "data": {
      "text/plain": [
       "symbol  timestamp                \n",
       "GOOGL   2021-10-14 04:00:00+00:00      NaN\n",
       "        2021-10-15 04:00:00+00:00    False\n",
       "        2021-10-18 04:00:00+00:00    False\n",
       "dtype: object"
      ]
     },
     "execution_count": 81,
     "metadata": {},
     "output_type": "execute_result"
    }
   ],
   "source": [
    "prev_close_below_sma5 = (\n",
    "    (df_bars[\"close\"] < df_bars[\"SMA_5\"]).groupby(level=\"symbol\").shift(1)\n",
    ")\n",
    "\n",
    "prev_close_below_sma5.head(3)"
   ]
  },
  {
   "cell_type": "markdown",
   "id": "7e301b4f",
   "metadata": {},
   "source": [
    "### SMA_5 below SMA_20\n"
   ]
  },
  {
   "cell_type": "code",
   "execution_count": 82,
   "id": "886e0d42",
   "metadata": {},
   "outputs": [
    {
     "data": {
      "text/plain": [
       "symbol  timestamp                \n",
       "GOOGL   2021-10-14 04:00:00+00:00    False\n",
       "        2021-10-15 04:00:00+00:00    False\n",
       "        2021-10-18 04:00:00+00:00    False\n",
       "dtype: bool"
      ]
     },
     "execution_count": 82,
     "metadata": {},
     "output_type": "execute_result"
    }
   ],
   "source": [
    "sma5_below_sma20 = df_bars[\"SMA_5\"] < df_bars[\"SMA_20\"]\n",
    "sma5_below_sma20.head(3)"
   ]
  },
  {
   "cell_type": "markdown",
   "id": "5f99b9fb",
   "metadata": {},
   "source": [
    "### Current AND previous day close < SMA_20\n"
   ]
  },
  {
   "cell_type": "code",
   "execution_count": 83,
   "id": "61012112",
   "metadata": {},
   "outputs": [
    {
     "data": {
      "text/plain": [
       "symbol  timestamp                \n",
       "GOOGL   2021-10-14 04:00:00+00:00    False\n",
       "        2021-10-15 04:00:00+00:00    False\n",
       "        2021-10-18 04:00:00+00:00    False\n",
       "dtype: bool"
      ]
     },
     "execution_count": 83,
     "metadata": {},
     "output_type": "execute_result"
    }
   ],
   "source": [
    "close_below_sma20 = df_bars[\"close\"] < df_bars[\"SMA_20\"]\n",
    "prev_close_below_20 = close_below_sma20.groupby(level=\"symbol\").shift(1)\n",
    "both_close_below_sma20 = close_below_sma20 & prev_close_below_20\n",
    "both_close_below_sma20.head(3)"
   ]
  },
  {
   "cell_type": "markdown",
   "id": "e1d5c4f2",
   "metadata": {},
   "source": [
    "---\n",
    "\n",
    "## Combine all conditions to mark potential buy signals\n"
   ]
  },
  {
   "cell_type": "code",
   "execution_count": 84,
   "id": "a4fe5c34",
   "metadata": {},
   "outputs": [
    {
     "data": {
      "text/html": [
       "<div>\n",
       "<style scoped>\n",
       "    .dataframe tbody tr th:only-of-type {\n",
       "        vertical-align: middle;\n",
       "    }\n",
       "\n",
       "    .dataframe tbody tr th {\n",
       "        vertical-align: top;\n",
       "    }\n",
       "\n",
       "    .dataframe thead th {\n",
       "        text-align: right;\n",
       "    }\n",
       "</style>\n",
       "<table border=\"1\" class=\"dataframe\">\n",
       "  <thead>\n",
       "    <tr style=\"text-align: right;\">\n",
       "      <th></th>\n",
       "      <th></th>\n",
       "      <th>open</th>\n",
       "      <th>high</th>\n",
       "      <th>low</th>\n",
       "      <th>close</th>\n",
       "      <th>volume</th>\n",
       "      <th>trade_count</th>\n",
       "      <th>vwap</th>\n",
       "      <th>SMA_5</th>\n",
       "      <th>SMA_20</th>\n",
       "      <th>potential_buy_signal</th>\n",
       "    </tr>\n",
       "    <tr>\n",
       "      <th>symbol</th>\n",
       "      <th>timestamp</th>\n",
       "      <th></th>\n",
       "      <th></th>\n",
       "      <th></th>\n",
       "      <th></th>\n",
       "      <th></th>\n",
       "      <th></th>\n",
       "      <th></th>\n",
       "      <th></th>\n",
       "      <th></th>\n",
       "      <th></th>\n",
       "    </tr>\n",
       "  </thead>\n",
       "  <tbody>\n",
       "    <tr>\n",
       "      <th rowspan=\"11\" valign=\"top\">GOOGL</th>\n",
       "      <th>2022-01-11 05:00:00+00:00</th>\n",
       "      <td>2760.140</td>\n",
       "      <td>2804.320</td>\n",
       "      <td>2733.8450</td>\n",
       "      <td>2794.72</td>\n",
       "      <td>1552393.0</td>\n",
       "      <td>100620.0</td>\n",
       "      <td>2781.602733</td>\n",
       "      <td>2763.780</td>\n",
       "      <td>2867.5660</td>\n",
       "      <td>True</td>\n",
       "    </tr>\n",
       "    <tr>\n",
       "      <th>2022-04-19 04:00:00+00:00</th>\n",
       "      <td>2553.830</td>\n",
       "      <td>2606.660</td>\n",
       "      <td>2539.9900</td>\n",
       "      <td>2600.18</td>\n",
       "      <td>1504116.0</td>\n",
       "      <td>102796.0</td>\n",
       "      <td>2589.482555</td>\n",
       "      <td>2568.096</td>\n",
       "      <td>2726.6400</td>\n",
       "      <td>True</td>\n",
       "    </tr>\n",
       "    <tr>\n",
       "      <th>2022-08-25 04:00:00+00:00</th>\n",
       "      <td>114.235</td>\n",
       "      <td>116.720</td>\n",
       "      <td>114.1100</td>\n",
       "      <td>116.65</td>\n",
       "      <td>19294089.0</td>\n",
       "      <td>222759.0</td>\n",
       "      <td>115.847827</td>\n",
       "      <td>115.130</td>\n",
       "      <td>117.6675</td>\n",
       "      <td>True</td>\n",
       "    </tr>\n",
       "    <tr>\n",
       "      <th>2022-10-13 04:00:00+00:00</th>\n",
       "      <td>95.150</td>\n",
       "      <td>99.775</td>\n",
       "      <td>94.3836</td>\n",
       "      <td>99.06</td>\n",
       "      <td>37849768.0</td>\n",
       "      <td>400539.0</td>\n",
       "      <td>97.755636</td>\n",
       "      <td>98.068</td>\n",
       "      <td>99.3715</td>\n",
       "      <td>True</td>\n",
       "    </tr>\n",
       "    <tr>\n",
       "      <th>2023-02-15 05:00:00+00:00</th>\n",
       "      <td>94.490</td>\n",
       "      <td>97.120</td>\n",
       "      <td>94.1500</td>\n",
       "      <td>96.94</td>\n",
       "      <td>53831053.0</td>\n",
       "      <td>449020.0</td>\n",
       "      <td>96.085784</td>\n",
       "      <td>95.162</td>\n",
       "      <td>98.7560</td>\n",
       "      <td>True</td>\n",
       "    </tr>\n",
       "    <tr>\n",
       "      <th>2023-03-01 05:00:00+00:00</th>\n",
       "      <td>89.980</td>\n",
       "      <td>91.030</td>\n",
       "      <td>89.6700</td>\n",
       "      <td>90.36</td>\n",
       "      <td>34280313.0</td>\n",
       "      <td>286691.0</td>\n",
       "      <td>90.341092</td>\n",
       "      <td>90.062</td>\n",
       "      <td>96.1140</td>\n",
       "      <td>True</td>\n",
       "    </tr>\n",
       "    <tr>\n",
       "      <th>2023-08-22 04:00:00+00:00</th>\n",
       "      <td>128.510</td>\n",
       "      <td>130.278</td>\n",
       "      <td>128.3200</td>\n",
       "      <td>129.08</td>\n",
       "      <td>22071182.0</td>\n",
       "      <td>231121.0</td>\n",
       "      <td>129.237825</td>\n",
       "      <td>128.706</td>\n",
       "      <td>129.8470</td>\n",
       "      <td>True</td>\n",
       "    </tr>\n",
       "    <tr>\n",
       "      <th>2024-08-16 04:00:00+00:00</th>\n",
       "      <td>161.470</td>\n",
       "      <td>165.060</td>\n",
       "      <td>161.1300</td>\n",
       "      <td>162.96</td>\n",
       "      <td>24208647.0</td>\n",
       "      <td>360419.0</td>\n",
       "      <td>163.283676</td>\n",
       "      <td>162.216</td>\n",
       "      <td>166.6205</td>\n",
       "      <td>True</td>\n",
       "    </tr>\n",
       "    <tr>\n",
       "      <th>2024-11-26 05:00:00+00:00</th>\n",
       "      <td>167.630</td>\n",
       "      <td>169.820</td>\n",
       "      <td>167.5800</td>\n",
       "      <td>169.12</td>\n",
       "      <td>20486720.0</td>\n",
       "      <td>268773.0</td>\n",
       "      <td>168.935164</td>\n",
       "      <td>169.028</td>\n",
       "      <td>173.9465</td>\n",
       "      <td>True</td>\n",
       "    </tr>\n",
       "    <tr>\n",
       "      <th>2025-02-13 05:00:00+00:00</th>\n",
       "      <td>184.320</td>\n",
       "      <td>186.280</td>\n",
       "      <td>183.1400</td>\n",
       "      <td>186.14</td>\n",
       "      <td>21402523.0</td>\n",
       "      <td>289687.0</td>\n",
       "      <td>184.821842</td>\n",
       "      <td>185.376</td>\n",
       "      <td>194.4175</td>\n",
       "      <td>True</td>\n",
       "    </tr>\n",
       "    <tr>\n",
       "      <th>2025-03-21 04:00:00+00:00</th>\n",
       "      <td>161.205</td>\n",
       "      <td>164.240</td>\n",
       "      <td>160.8901</td>\n",
       "      <td>163.99</td>\n",
       "      <td>36625764.0</td>\n",
       "      <td>295271.0</td>\n",
       "      <td>162.975843</td>\n",
       "      <td>163.128</td>\n",
       "      <td>168.2125</td>\n",
       "      <td>True</td>\n",
       "    </tr>\n",
       "  </tbody>\n",
       "</table>\n",
       "</div>"
      ],
      "text/plain": [
       "                                      open      high        low    close  \\\n",
       "symbol timestamp                                                           \n",
       "GOOGL  2022-01-11 05:00:00+00:00  2760.140  2804.320  2733.8450  2794.72   \n",
       "       2022-04-19 04:00:00+00:00  2553.830  2606.660  2539.9900  2600.18   \n",
       "       2022-08-25 04:00:00+00:00   114.235   116.720   114.1100   116.65   \n",
       "       2022-10-13 04:00:00+00:00    95.150    99.775    94.3836    99.06   \n",
       "       2023-02-15 05:00:00+00:00    94.490    97.120    94.1500    96.94   \n",
       "       2023-03-01 05:00:00+00:00    89.980    91.030    89.6700    90.36   \n",
       "       2023-08-22 04:00:00+00:00   128.510   130.278   128.3200   129.08   \n",
       "       2024-08-16 04:00:00+00:00   161.470   165.060   161.1300   162.96   \n",
       "       2024-11-26 05:00:00+00:00   167.630   169.820   167.5800   169.12   \n",
       "       2025-02-13 05:00:00+00:00   184.320   186.280   183.1400   186.14   \n",
       "       2025-03-21 04:00:00+00:00   161.205   164.240   160.8901   163.99   \n",
       "\n",
       "                                      volume  trade_count         vwap  \\\n",
       "symbol timestamp                                                         \n",
       "GOOGL  2022-01-11 05:00:00+00:00   1552393.0     100620.0  2781.602733   \n",
       "       2022-04-19 04:00:00+00:00   1504116.0     102796.0  2589.482555   \n",
       "       2022-08-25 04:00:00+00:00  19294089.0     222759.0   115.847827   \n",
       "       2022-10-13 04:00:00+00:00  37849768.0     400539.0    97.755636   \n",
       "       2023-02-15 05:00:00+00:00  53831053.0     449020.0    96.085784   \n",
       "       2023-03-01 05:00:00+00:00  34280313.0     286691.0    90.341092   \n",
       "       2023-08-22 04:00:00+00:00  22071182.0     231121.0   129.237825   \n",
       "       2024-08-16 04:00:00+00:00  24208647.0     360419.0   163.283676   \n",
       "       2024-11-26 05:00:00+00:00  20486720.0     268773.0   168.935164   \n",
       "       2025-02-13 05:00:00+00:00  21402523.0     289687.0   184.821842   \n",
       "       2025-03-21 04:00:00+00:00  36625764.0     295271.0   162.975843   \n",
       "\n",
       "                                     SMA_5     SMA_20  potential_buy_signal  \n",
       "symbol timestamp                                                             \n",
       "GOOGL  2022-01-11 05:00:00+00:00  2763.780  2867.5660                  True  \n",
       "       2022-04-19 04:00:00+00:00  2568.096  2726.6400                  True  \n",
       "       2022-08-25 04:00:00+00:00   115.130   117.6675                  True  \n",
       "       2022-10-13 04:00:00+00:00    98.068    99.3715                  True  \n",
       "       2023-02-15 05:00:00+00:00    95.162    98.7560                  True  \n",
       "       2023-03-01 05:00:00+00:00    90.062    96.1140                  True  \n",
       "       2023-08-22 04:00:00+00:00   128.706   129.8470                  True  \n",
       "       2024-08-16 04:00:00+00:00   162.216   166.6205                  True  \n",
       "       2024-11-26 05:00:00+00:00   169.028   173.9465                  True  \n",
       "       2025-02-13 05:00:00+00:00   185.376   194.4175                  True  \n",
       "       2025-03-21 04:00:00+00:00   163.128   168.2125                  True  "
      ]
     },
     "execution_count": 84,
     "metadata": {},
     "output_type": "execute_result"
    }
   ],
   "source": [
    "mask = (\n",
    "    is_up\n",
    "    & prev_up\n",
    "    & cross_above_sma5\n",
    "    & prev_close_below_sma5\n",
    "    & sma5_below_sma20\n",
    "    & both_close_below_sma20\n",
    ")\n",
    "\n",
    "df_bars[\"potential_buy_signal\"] = mask\n",
    "# df_bars_potential_buy_signals = df_bars[mask]\n",
    "# df_bars_potential_buy_signals\n",
    "df_bars[df_bars[\"potential_buy_signal\"]]"
   ]
  },
  {
   "cell_type": "markdown",
   "id": "0135071d",
   "metadata": {},
   "source": [
    "---\n",
    "\n",
    "## Calculate\n"
   ]
  },
  {
   "cell_type": "code",
   "execution_count": 88,
   "id": "110d8d3f",
   "metadata": {},
   "outputs": [
    {
     "name": "stdout",
     "output_type": "stream",
     "text": [
      "['symbol', 'timestamp']\n"
     ]
    },
    {
     "data": {
      "text/html": [
       "<div>\n",
       "<style scoped>\n",
       "    .dataframe tbody tr th:only-of-type {\n",
       "        vertical-align: middle;\n",
       "    }\n",
       "\n",
       "    .dataframe tbody tr th {\n",
       "        vertical-align: top;\n",
       "    }\n",
       "\n",
       "    .dataframe thead th {\n",
       "        text-align: right;\n",
       "    }\n",
       "</style>\n",
       "<table border=\"1\" class=\"dataframe\">\n",
       "  <thead>\n",
       "    <tr style=\"text-align: right;\">\n",
       "      <th></th>\n",
       "      <th></th>\n",
       "      <th>open</th>\n",
       "      <th>high</th>\n",
       "      <th>low</th>\n",
       "      <th>close</th>\n",
       "      <th>volume</th>\n",
       "      <th>trade_count</th>\n",
       "      <th>vwap</th>\n",
       "      <th>SMA_5</th>\n",
       "      <th>SMA_20</th>\n",
       "      <th>potential_buy_signal</th>\n",
       "    </tr>\n",
       "    <tr>\n",
       "      <th>symbol</th>\n",
       "      <th>timestamp</th>\n",
       "      <th></th>\n",
       "      <th></th>\n",
       "      <th></th>\n",
       "      <th></th>\n",
       "      <th></th>\n",
       "      <th></th>\n",
       "      <th></th>\n",
       "      <th></th>\n",
       "      <th></th>\n",
       "      <th></th>\n",
       "    </tr>\n",
       "  </thead>\n",
       "  <tbody>\n",
       "    <tr>\n",
       "      <th rowspan=\"10\" valign=\"top\">GOOGL</th>\n",
       "      <th>2021-10-14 04:00:00+00:00</th>\n",
       "      <td>2789.4761</td>\n",
       "      <td>2826.7450</td>\n",
       "      <td>2776.500</td>\n",
       "      <td>2823.02</td>\n",
       "      <td>1763914.0</td>\n",
       "      <td>80318.0</td>\n",
       "      <td>2813.891813</td>\n",
       "      <td>2775.526</td>\n",
       "      <td>2764.0955</td>\n",
       "      <td>False</td>\n",
       "    </tr>\n",
       "    <tr>\n",
       "      <th>2021-10-15 04:00:00+00:00</th>\n",
       "      <td>2832.2900</td>\n",
       "      <td>2834.3600</td>\n",
       "      <td>2815.100</td>\n",
       "      <td>2827.36</td>\n",
       "      <td>1749621.0</td>\n",
       "      <td>73292.0</td>\n",
       "      <td>2826.739808</td>\n",
       "      <td>2781.856</td>\n",
       "      <td>2764.6635</td>\n",
       "      <td>False</td>\n",
       "    </tr>\n",
       "    <tr>\n",
       "      <th>2021-10-18 04:00:00+00:00</th>\n",
       "      <td>2821.5300</td>\n",
       "      <td>2855.9200</td>\n",
       "      <td>2821.389</td>\n",
       "      <td>2855.56</td>\n",
       "      <td>1157869.0</td>\n",
       "      <td>69315.0</td>\n",
       "      <td>2846.922126</td>\n",
       "      <td>2797.312</td>\n",
       "      <td>2768.7220</td>\n",
       "      <td>False</td>\n",
       "    </tr>\n",
       "    <tr>\n",
       "      <th>2021-10-19 04:00:00+00:00</th>\n",
       "      <td>2867.7500</td>\n",
       "      <td>2873.2500</td>\n",
       "      <td>2852.000</td>\n",
       "      <td>2864.74</td>\n",
       "      <td>1135848.0</td>\n",
       "      <td>65856.0</td>\n",
       "      <td>2862.847809</td>\n",
       "      <td>2824.464</td>\n",
       "      <td>2772.9260</td>\n",
       "      <td>False</td>\n",
       "    </tr>\n",
       "    <tr>\n",
       "      <th>2021-10-20 04:00:00+00:00</th>\n",
       "      <td>2866.7600</td>\n",
       "      <td>2870.9218</td>\n",
       "      <td>2827.530</td>\n",
       "      <td>2835.38</td>\n",
       "      <td>1250582.0</td>\n",
       "      <td>75991.0</td>\n",
       "      <td>2846.801453</td>\n",
       "      <td>2841.212</td>\n",
       "      <td>2774.4115</td>\n",
       "      <td>False</td>\n",
       "    </tr>\n",
       "    <tr>\n",
       "      <th>2021-10-21 04:00:00+00:00</th>\n",
       "      <td>2835.3800</td>\n",
       "      <td>2843.1200</td>\n",
       "      <td>2810.000</td>\n",
       "      <td>2837.72</td>\n",
       "      <td>1408598.0</td>\n",
       "      <td>83576.0</td>\n",
       "      <td>2831.294159</td>\n",
       "      <td>2844.152</td>\n",
       "      <td>2775.0815</td>\n",
       "      <td>False</td>\n",
       "    </tr>\n",
       "    <tr>\n",
       "      <th>2021-10-22 04:00:00+00:00</th>\n",
       "      <td>2783.0000</td>\n",
       "      <td>2811.6550</td>\n",
       "      <td>2721.120</td>\n",
       "      <td>2751.33</td>\n",
       "      <td>2755581.0</td>\n",
       "      <td>152794.0</td>\n",
       "      <td>2755.002750</td>\n",
       "      <td>2828.946</td>\n",
       "      <td>2770.4330</td>\n",
       "      <td>False</td>\n",
       "    </tr>\n",
       "    <tr>\n",
       "      <th>2021-10-25 04:00:00+00:00</th>\n",
       "      <td>2751.0000</td>\n",
       "      <td>2760.0000</td>\n",
       "      <td>2708.480</td>\n",
       "      <td>2748.94</td>\n",
       "      <td>1824771.0</td>\n",
       "      <td>107000.0</td>\n",
       "      <td>2742.848981</td>\n",
       "      <td>2807.622</td>\n",
       "      <td>2766.8080</td>\n",
       "      <td>False</td>\n",
       "    </tr>\n",
       "    <tr>\n",
       "      <th>2021-10-26 04:00:00+00:00</th>\n",
       "      <td>2785.2700</td>\n",
       "      <td>2801.6588</td>\n",
       "      <td>2766.090</td>\n",
       "      <td>2786.17</td>\n",
       "      <td>2600438.0</td>\n",
       "      <td>146505.0</td>\n",
       "      <td>2783.211643</td>\n",
       "      <td>2791.908</td>\n",
       "      <td>2770.2865</td>\n",
       "      <td>False</td>\n",
       "    </tr>\n",
       "    <tr>\n",
       "      <th>2021-10-27 04:00:00+00:00</th>\n",
       "      <td>2788.1000</td>\n",
       "      <td>2973.0000</td>\n",
       "      <td>2788.100</td>\n",
       "      <td>2924.35</td>\n",
       "      <td>4552112.0</td>\n",
       "      <td>239402.0</td>\n",
       "      <td>2907.390882</td>\n",
       "      <td>2809.702</td>\n",
       "      <td>2782.1505</td>\n",
       "      <td>False</td>\n",
       "    </tr>\n",
       "  </tbody>\n",
       "</table>\n",
       "</div>"
      ],
      "text/plain": [
       "                                       open       high       low    close  \\\n",
       "symbol timestamp                                                            \n",
       "GOOGL  2021-10-14 04:00:00+00:00  2789.4761  2826.7450  2776.500  2823.02   \n",
       "       2021-10-15 04:00:00+00:00  2832.2900  2834.3600  2815.100  2827.36   \n",
       "       2021-10-18 04:00:00+00:00  2821.5300  2855.9200  2821.389  2855.56   \n",
       "       2021-10-19 04:00:00+00:00  2867.7500  2873.2500  2852.000  2864.74   \n",
       "       2021-10-20 04:00:00+00:00  2866.7600  2870.9218  2827.530  2835.38   \n",
       "       2021-10-21 04:00:00+00:00  2835.3800  2843.1200  2810.000  2837.72   \n",
       "       2021-10-22 04:00:00+00:00  2783.0000  2811.6550  2721.120  2751.33   \n",
       "       2021-10-25 04:00:00+00:00  2751.0000  2760.0000  2708.480  2748.94   \n",
       "       2021-10-26 04:00:00+00:00  2785.2700  2801.6588  2766.090  2786.17   \n",
       "       2021-10-27 04:00:00+00:00  2788.1000  2973.0000  2788.100  2924.35   \n",
       "\n",
       "                                     volume  trade_count         vwap  \\\n",
       "symbol timestamp                                                        \n",
       "GOOGL  2021-10-14 04:00:00+00:00  1763914.0      80318.0  2813.891813   \n",
       "       2021-10-15 04:00:00+00:00  1749621.0      73292.0  2826.739808   \n",
       "       2021-10-18 04:00:00+00:00  1157869.0      69315.0  2846.922126   \n",
       "       2021-10-19 04:00:00+00:00  1135848.0      65856.0  2862.847809   \n",
       "       2021-10-20 04:00:00+00:00  1250582.0      75991.0  2846.801453   \n",
       "       2021-10-21 04:00:00+00:00  1408598.0      83576.0  2831.294159   \n",
       "       2021-10-22 04:00:00+00:00  2755581.0     152794.0  2755.002750   \n",
       "       2021-10-25 04:00:00+00:00  1824771.0     107000.0  2742.848981   \n",
       "       2021-10-26 04:00:00+00:00  2600438.0     146505.0  2783.211643   \n",
       "       2021-10-27 04:00:00+00:00  4552112.0     239402.0  2907.390882   \n",
       "\n",
       "                                     SMA_5     SMA_20  potential_buy_signal  \n",
       "symbol timestamp                                                             \n",
       "GOOGL  2021-10-14 04:00:00+00:00  2775.526  2764.0955                 False  \n",
       "       2021-10-15 04:00:00+00:00  2781.856  2764.6635                 False  \n",
       "       2021-10-18 04:00:00+00:00  2797.312  2768.7220                 False  \n",
       "       2021-10-19 04:00:00+00:00  2824.464  2772.9260                 False  \n",
       "       2021-10-20 04:00:00+00:00  2841.212  2774.4115                 False  \n",
       "       2021-10-21 04:00:00+00:00  2844.152  2775.0815                 False  \n",
       "       2021-10-22 04:00:00+00:00  2828.946  2770.4330                 False  \n",
       "       2021-10-25 04:00:00+00:00  2807.622  2766.8080                 False  \n",
       "       2021-10-26 04:00:00+00:00  2791.908  2770.2865                 False  \n",
       "       2021-10-27 04:00:00+00:00  2809.702  2782.1505                 False  "
      ]
     },
     "execution_count": 88,
     "metadata": {},
     "output_type": "execute_result"
    }
   ],
   "source": [
    "print(df_bars.index.names)\n",
    "df_bars.head(10)"
   ]
  }
 ],
 "metadata": {
  "kernelspec": {
   "display_name": "gies",
   "language": "python",
   "name": "python3"
  },
  "language_info": {
   "codemirror_mode": {
    "name": "ipython",
    "version": 3
   },
   "file_extension": ".py",
   "mimetype": "text/x-python",
   "name": "python",
   "nbconvert_exporter": "python",
   "pygments_lexer": "ipython3",
   "version": "3.12.6"
  }
 },
 "nbformat": 4,
 "nbformat_minor": 5
}
